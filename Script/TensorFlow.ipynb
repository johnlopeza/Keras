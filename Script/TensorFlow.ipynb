{
 "cells": [
  {
   "cell_type": "markdown",
   "metadata": {},
   "source": [
    "# Predicción"
   ]
  },
  {
   "cell_type": "code",
   "execution_count": 1,
   "metadata": {},
   "outputs": [],
   "source": [
    "#Paquetes y Librerias\n",
    "import snowflake.connector as sf\n",
    "import numpy as np\n",
    "import matplotlib.pyplot as plt\n",
    "import pandas as pd\n",
    "import tensorflow as tf\n",
    "import re\n",
    "from sklearn.impute import SimpleImputer\n",
    "from sklearn.preprocessing import OneHotEncoder, LabelEncoder, StandardScaler\n",
    "from sklearn.compose import make_column_transformer\n",
    "from sklearn.model_selection import train_test_split\n",
    "pd.set_option('mode.chained_assignment', None)"
   ]
  },
  {
   "cell_type": "code",
   "execution_count": 2,
   "metadata": {},
   "outputs": [],
   "source": [
    "session = tf.Session()"
   ]
  },
  {
   "cell_type": "code",
   "execution_count": 3,
   "metadata": {},
   "outputs": [],
   "source": [
    "%run '../Config/Config.py'\n",
    "Config = np.array(para())"
   ]
  },
  {
   "cell_type": "code",
   "execution_count": 4,
   "metadata": {},
   "outputs": [],
   "source": [
    "conn = sf.connect(user = Config[0], password = Config[1], account = Config[2], role= Config[3], database =Config[4])"
   ]
  },
  {
   "cell_type": "code",
   "execution_count": 5,
   "metadata": {},
   "outputs": [],
   "source": [
    "def execute_query (connection, query):\n",
    "    cursor = connection.cursor()\n",
    "    cursor.execute(query)\n",
    "    cursor.close()"
   ]
  },
  {
   "cell_type": "code",
   "execution_count": 6,
   "metadata": {},
   "outputs": [],
   "source": [
    "try:\n",
    "    sql = 'use {}'.format(Config[4])\n",
    "    execute_query(conn,sql)\n",
    "\n",
    "    sql = 'use warehouse {}'.format(Config[5])\n",
    "    execute_query(conn,sql)\n",
    "    \n",
    "    sql = open('../DataSet/Train.txt')\n",
    "    sql = sql.read()\n",
    "    \n",
    "    cursor = conn.cursor()\n",
    "    cursor.execute(sql)\n",
    "\n",
    "    Train = []\n",
    "    for c in cursor:\n",
    "        Train.append(c)\n",
    "                      \n",
    "                  \n",
    "except Exception as e:\n",
    "    print(e)"
   ]
  },
  {
   "cell_type": "code",
   "execution_count": 7,
   "metadata": {},
   "outputs": [],
   "source": [
    "train = pd.DataFrame(Train)"
   ]
  },
  {
   "cell_type": "code",
   "execution_count": 8,
   "metadata": {},
   "outputs": [],
   "source": [
    "train.iloc[:, 20:21] = train.iloc[:, 20:21].fillna(False)\n",
    "train.iloc[:, 6:7] = train.iloc[:, 6:7].fillna(\"Sin Definir\")\n",
    "train.iloc[:, 21:22] = train.iloc[:, 21:22].fillna(0)\n",
    "train.iloc[:, 1] = pd.to_datetime(train.iloc[:, 1])\n",
    "train.iloc[:, 1]= train.iloc[:, 1].apply(lambda x: x.toordinal())"
   ]
  },
  {
   "cell_type": "code",
   "execution_count": 9,
   "metadata": {},
   "outputs": [],
   "source": [
    "#Definir los valores de entrenamiento y de prediccion.\n",
    "x = train.iloc[:, [0,1, 5, 6, 8, 10, 14, 15, 19, 20, 21]].values\n",
    "y = train.iloc[:, [0,22]].values"
   ]
  },
  {
   "cell_type": "code",
   "execution_count": 10,
   "metadata": {},
   "outputs": [],
   "source": [
    "#Limpiar los datos\n",
    "imputer = SimpleImputer(missing_values=np.nan, strategy=\"mean\")\n",
    "imputer = imputer.fit(x[:, [1, 2, 4, 5, 6, 7, 8, 10]])\n",
    "x[:, [1, 2, 4, 5, 6, 7, 8, 10]] = imputer.transform(x[:, [1, 2, 4, 5, 6, 7, 8, 10]])"
   ]
  },
  {
   "cell_type": "code",
   "execution_count": 11,
   "metadata": {},
   "outputs": [],
   "source": [
    "#Codificar los datos\n",
    "labelecoder_x = LabelEncoder()\n",
    "x[:, 9] = labelecoder_x.fit_transform(x[:,9])\n",
    "onehotencoder = make_column_transformer((OneHotEncoder(sparse=False), [3]), remainder=\"passthrough\")\n",
    "x = onehotencoder.fit_transform(x)"
   ]
  },
  {
   "cell_type": "code",
   "execution_count": 12,
   "metadata": {},
   "outputs": [],
   "source": [
    "#Separar los Datos de train y test\n",
    "X_train, X_test, y_train, y_test = train_test_split(x, y, test_size=0.2, random_state=0)"
   ]
  },
  {
   "cell_type": "code",
   "execution_count": 13,
   "metadata": {},
   "outputs": [],
   "source": [
    "X_train = pd.DataFrame(X_train)\n",
    "X_test = pd.DataFrame(X_test)"
   ]
  },
  {
   "cell_type": "code",
   "execution_count": 14,
   "metadata": {},
   "outputs": [],
   "source": [
    "sc_X = StandardScaler()\n",
    "X_train.loc[:, X_train.columns != 68] = sc_X.fit_transform(X_train.loc[:, X_train.columns != 68])\n",
    "X_test.loc[:, X_test.columns != 68]= sc_X.transform(X_test.loc[:, X_test.columns != 68])"
   ]
  },
  {
   "cell_type": "markdown",
   "metadata": {},
   "source": [
    "### Modelo de regresión logística"
   ]
  },
  {
   "cell_type": "markdown",
   "metadata": {},
   "source": [
    "- $x$\n",
    "- $A$\n",
    "- $b$\n",
    "- $y = Ax+b$\n",
    "- $\\hat{y} = sigmoid(y)$"
   ]
  },
  {
   "cell_type": "code",
   "execution_count": 15,
   "metadata": {},
   "outputs": [
    {
     "name": "stdout",
     "output_type": "stream",
     "text": [
      "WARNING:tensorflow:From /Users/pro2017/anaconda3/lib/python3.7/site-packages/tensorflow/python/framework/op_def_library.py:263: colocate_with (from tensorflow.python.framework.ops) is deprecated and will be removed in a future version.\n",
      "Instructions for updating:\n",
      "Colocations handled automatically by placer.\n"
     ]
    }
   ],
   "source": [
    "batch_size = 25\n",
    "x_data = tf.placeholder(shape=[None, 77], dtype = tf.float32)\n",
    "y_target = tf.placeholder(shape = [None, 1], dtype=tf.float32)\n",
    "A = tf.Variable(tf.random_normal(shape=[77,1]))\n",
    "b = tf.Variable(tf.random_normal(shape=[1,1]))\n",
    "y_pred = tf.add(tf.matmul(x_data, A), b)"
   ]
  },
  {
   "cell_type": "code",
   "execution_count": 16,
   "metadata": {},
   "outputs": [],
   "source": [
    "loss = tf.reduce_mean(tf.nn.sigmoid_cross_entropy_with_logits(logits=y_pred, labels= y_target))\n",
    "pred = tf.nn.sigmoid_cross_entropy_with_logits(logits= y_pred, labels=y_target)\n",
    "init = tf.global_variables_initializer()\n",
    "session.run(init)\n",
    "my_optim = tf.train.GradientDescentOptimizer(learning_rate=0.25)\n",
    "train_step = my_optim.minimize(loss)"
   ]
  },
  {
   "cell_type": "code",
   "execution_count": 17,
   "metadata": {},
   "outputs": [],
   "source": [
    "classification_lr = tf.round(tf.sigmoid(y_pred))\n",
    "correct_classification = tf.cast(tf.equal(classification_lr, y_target), tf.float32)\n",
    "accuracy = tf.reduce_mean(correct_classification)"
   ]
  },
  {
   "cell_type": "code",
   "execution_count": 18,
   "metadata": {},
   "outputs": [
    {
     "name": "stdout",
     "output_type": "stream",
     "text": [
      "Loss: 0.0382612 Acc: 0.98887414 AccTest: 0.9889964\n",
      "Loss: 0.021060104 Acc: 0.9931068 AccTest: 0.9938331\n",
      "Loss: 0.013403991 Acc: 0.9976116 AccTest: 0.9978235\n",
      "Loss: 0.009385545 Acc: 0.99785346 AccTest: 0.99794436\n",
      "Loss: 0.007823481 Acc: 0.99806505 AccTest: 0.99794436\n",
      "Loss: 0.0068172645 Acc: 0.9985186 AccTest: 0.9987908\n",
      "Loss: 0.008336936 Acc: 0.9984883 AccTest: 0.9987908\n",
      "Loss: 0.003956841 Acc: 0.9985186 AccTest: 0.9987908\n",
      "Loss: 0.0052044946 Acc: 0.99903256 AccTest: 0.99891174\n",
      "Loss: 0.0043939007 Acc: 0.99915344 AccTest: 0.99891174\n"
     ]
    }
   ],
   "source": [
    "loss_vec = []\n",
    "train_acc = []\n",
    "test_acc = []\n",
    "prediction = []\n",
    "predictionTest = []\n",
    "\n",
    "for i in range(1000):\n",
    "    rand_idx = np.random.choice(len(X_train), size=batch_size)\n",
    "    rand_x = X_train.loc[rand_idx]\n",
    "    rand_y = np.transpose([y_train[rand_idx,1]])\n",
    "    session.run(train_step, feed_dict={x_data: rand_x.loc[:, rand_x.columns != 68], y_target: rand_y})\n",
    "    temp_loss = session.run(loss, feed_dict={x_data: rand_x.loc[:, rand_x.columns != 68], y_target: rand_y})\n",
    "    loss_vec.append(temp_loss)\n",
    "    \n",
    "    temp_acc_train = session.run(accuracy, \n",
    "                                 feed_dict={x_data: X_train.loc[:, X_train.columns != 68], y_target: np.transpose([y_train[:,1]])})\n",
    "    train_acc.append(temp_acc_train)\n",
    "    temp_acc_test = session.run(accuracy, \n",
    "                                feed_dict={x_data: X_test.loc[:, X_test.columns != 68], y_target: np.transpose([y_test[:,1]])})\n",
    "    test_acc.append(temp_acc_test)\n",
    "    \n",
    "    temp_pred=session.run(classification_lr,feed_dict={x_data: X_train.loc[:, X_train.columns != 68]})\n",
    "    prediction =temp_pred\n",
    "    \n",
    "    temp_predtest=session.run(classification_lr,feed_dict={x_data: X_test.loc[:,X_test.columns !=68]})\n",
    "    predictionTest = temp_predtest\n",
    "     \n",
    "    if(i+1)%100==0:\n",
    "        print(\"Loss: \"+str(temp_loss)+ \" Acc: \"+ str(temp_acc_train)+ \" AccTest: \"+str(temp_acc_test))\n",
    "      \n",
    "    "
   ]
  },
  {
   "cell_type": "code",
   "execution_count": 19,
   "metadata": {},
   "outputs": [
    {
     "data": {
      "image/png": "[encoded data removed]",
      "text/plain": [
       "<Figure size 432x288 with 1 Axes>"
      ]
     },
     "metadata": {
      "needs_background": "light"
     },
     "output_type": "display_data"
    }
   ],
   "source": [
    "plt.plot(loss_vec, 'k-')\n",
    "plt.title(\"Función de pérdidas por iteración\")\n",
    "plt.xlabel(\"Iteración\")\n",
    "plt.ylabel(\"Pérdida\")\n",
    "plt.ylim([0,2])\n",
    "plt.show()"
   ]
  },
  {
   "cell_type": "code",
   "execution_count": 20,
   "metadata": {},
   "outputs": [
    {
     "data": {
      "image/png": "[encoded data removed]",
      "text/plain": [
       "<Figure size 432x288 with 1 Axes>"
      ]
     },
     "metadata": {
      "needs_background": "light"
     },
     "output_type": "display_data"
    }
   ],
   "source": [
    "plt.plot(train_acc, 'b-', label = \"Precisión conjunto entrenamiento\")\n",
    "plt.plot(test_acc, 'r--', label = \"Precisión conjunto de pruebas\")\n",
    "plt.title(\"Precisión en entrenamiento y testing\")\n",
    "plt.xlabel(\"Iteración del algoritmo\")\n",
    "plt.ylabel(\"Precisión (proporción de clasifición OK)\")\n",
    "plt.legend(loc = 'lower right')\n",
    "plt.show()"
   ]
  },
  {
   "cell_type": "code",
   "execution_count": 21,
   "metadata": {},
   "outputs": [],
   "source": [
    "ResultPred = pd.DataFrame(prediction)\n",
    "ResultPredTest = pd.DataFrame(predictionTest)"
   ]
  },
  {
   "cell_type": "code",
   "execution_count": 22,
   "metadata": {},
   "outputs": [],
   "source": [
    "DataPredTrain = X_train.loc[:,[68]]\n",
    "DataPredTest = X_test.loc[:,[68]]\n",
    "DataPredTrain[1] = ResultPred\n",
    "DataPredTest[1] = ResultPredTest"
   ]
  },
  {
   "cell_type": "code",
   "execution_count": 23,
   "metadata": {},
   "outputs": [
    {
     "data": {
      "text/html": [
       "<div>\n",
       "<style scoped>\n",
       "    .dataframe tbody tr th:only-of-type {\n",
       "        vertical-align: middle;\n",
       "    }\n",
       "\n",
       "    .dataframe tbody tr th {\n",
       "        vertical-align: top;\n",
       "    }\n",
       "\n",
       "    .dataframe thead th {\n",
       "        text-align: right;\n",
       "    }\n",
       "</style>\n",
       "<table border=\"1\" class=\"dataframe\">\n",
       "  <thead>\n",
       "    <tr style=\"text-align: right;\">\n",
       "      <th></th>\n",
       "      <th>68</th>\n",
       "      <th>1</th>\n",
       "    </tr>\n",
       "  </thead>\n",
       "  <tbody>\n",
       "    <tr>\n",
       "      <th>821</th>\n",
       "      <td>5cd2ebae70819e4aff81c14a</td>\n",
       "      <td>1.0</td>\n",
       "    </tr>\n",
       "    <tr>\n",
       "      <th>1853</th>\n",
       "      <td>5cf7e3415eef8e000ad97d0b</td>\n",
       "      <td>1.0</td>\n",
       "    </tr>\n",
       "    <tr>\n",
       "      <th>1941</th>\n",
       "      <td>5cd1d6b24a618f001398c458</td>\n",
       "      <td>1.0</td>\n",
       "    </tr>\n",
       "    <tr>\n",
       "      <th>5151</th>\n",
       "      <td>5cd7d6f1d4476000136279e1</td>\n",
       "      <td>1.0</td>\n",
       "    </tr>\n",
       "    <tr>\n",
       "      <th>5565</th>\n",
       "      <td>5ccceae8424ffe0025d59bbc</td>\n",
       "      <td>1.0</td>\n",
       "    </tr>\n",
       "    <tr>\n",
       "      <th>6880</th>\n",
       "      <td>5d1705ad2b7b8d001768f60d</td>\n",
       "      <td>0.0</td>\n",
       "    </tr>\n",
       "    <tr>\n",
       "      <th>7328</th>\n",
       "      <td>5cd185b74c8daa0043c06857</td>\n",
       "      <td>1.0</td>\n",
       "    </tr>\n",
       "    <tr>\n",
       "      <th>9246</th>\n",
       "      <td>5d1fe40f1b2fb6123ec6be53</td>\n",
       "      <td>1.0</td>\n",
       "    </tr>\n",
       "    <tr>\n",
       "      <th>9272</th>\n",
       "      <td>5cd42bf4734f7700199284d2</td>\n",
       "      <td>1.0</td>\n",
       "    </tr>\n",
       "    <tr>\n",
       "      <th>11796</th>\n",
       "      <td>5cd34546734f770043917d5b</td>\n",
       "      <td>1.0</td>\n",
       "    </tr>\n",
       "    <tr>\n",
       "      <th>13577</th>\n",
       "      <td>5cd489cfc0aad7005e186f45</td>\n",
       "      <td>1.0</td>\n",
       "    </tr>\n",
       "    <tr>\n",
       "      <th>14738</th>\n",
       "      <td>5cd4a987c0aad70016188c72</td>\n",
       "      <td>1.0</td>\n",
       "    </tr>\n",
       "    <tr>\n",
       "      <th>15700</th>\n",
       "      <td>5d4838e5432aa9003367f569</td>\n",
       "      <td>0.0</td>\n",
       "    </tr>\n",
       "    <tr>\n",
       "      <th>19886</th>\n",
       "      <td>5ccda264f41acf0040b73899</td>\n",
       "      <td>1.0</td>\n",
       "    </tr>\n",
       "    <tr>\n",
       "      <th>20827</th>\n",
       "      <td>5cd6261f1e0ab9000d3987fd</td>\n",
       "      <td>1.0</td>\n",
       "    </tr>\n",
       "    <tr>\n",
       "      <th>23292</th>\n",
       "      <td>5cd15a024a618f001697f9a3</td>\n",
       "      <td>1.0</td>\n",
       "    </tr>\n",
       "    <tr>\n",
       "      <th>24472</th>\n",
       "      <td>5cd56d14c0aad70034196b1e</td>\n",
       "      <td>1.0</td>\n",
       "    </tr>\n",
       "    <tr>\n",
       "      <th>25892</th>\n",
       "      <td>5ccc520ac791b50046687294</td>\n",
       "      <td>1.0</td>\n",
       "    </tr>\n",
       "    <tr>\n",
       "      <th>27378</th>\n",
       "      <td>5d49ed794890890060366c4f</td>\n",
       "      <td>0.0</td>\n",
       "    </tr>\n",
       "    <tr>\n",
       "      <th>27657</th>\n",
       "      <td>5cccb879424ffe0040d54ae3</td>\n",
       "      <td>1.0</td>\n",
       "    </tr>\n",
       "    <tr>\n",
       "      <th>28171</th>\n",
       "      <td>5cf161f63eea2d004cceee3c</td>\n",
       "      <td>1.0</td>\n",
       "    </tr>\n",
       "    <tr>\n",
       "      <th>29248</th>\n",
       "      <td>5ccba9345de703002bc3c2c8</td>\n",
       "      <td>1.0</td>\n",
       "    </tr>\n",
       "    <tr>\n",
       "      <th>29642</th>\n",
       "      <td>5cf3301198dbd1002e022101</td>\n",
       "      <td>1.0</td>\n",
       "    </tr>\n",
       "    <tr>\n",
       "      <th>30207</th>\n",
       "      <td>5cf1741888e702003a727401</td>\n",
       "      <td>0.0</td>\n",
       "    </tr>\n",
       "    <tr>\n",
       "      <th>31050</th>\n",
       "      <td>5cd84fe7b7c305002ba83fb3</td>\n",
       "      <td>1.0</td>\n",
       "    </tr>\n",
       "  </tbody>\n",
       "</table>\n",
       "</div>"
      ],
      "text/plain": [
       "                             68   1 \n",
       "821    5cd2ebae70819e4aff81c14a  1.0\n",
       "1853   5cf7e3415eef8e000ad97d0b  1.0\n",
       "1941   5cd1d6b24a618f001398c458  1.0\n",
       "5151   5cd7d6f1d4476000136279e1  1.0\n",
       "5565   5ccceae8424ffe0025d59bbc  1.0\n",
       "6880   5d1705ad2b7b8d001768f60d  0.0\n",
       "7328   5cd185b74c8daa0043c06857  1.0\n",
       "9246   5d1fe40f1b2fb6123ec6be53  1.0\n",
       "9272   5cd42bf4734f7700199284d2  1.0\n",
       "11796  5cd34546734f770043917d5b  1.0\n",
       "13577  5cd489cfc0aad7005e186f45  1.0\n",
       "14738  5cd4a987c0aad70016188c72  1.0\n",
       "15700  5d4838e5432aa9003367f569  0.0\n",
       "19886  5ccda264f41acf0040b73899  1.0\n",
       "20827  5cd6261f1e0ab9000d3987fd  1.0\n",
       "23292  5cd15a024a618f001697f9a3  1.0\n",
       "24472  5cd56d14c0aad70034196b1e  1.0\n",
       "25892  5ccc520ac791b50046687294  1.0\n",
       "27378  5d49ed794890890060366c4f  0.0\n",
       "27657  5cccb879424ffe0040d54ae3  1.0\n",
       "28171  5cf161f63eea2d004cceee3c  1.0\n",
       "29248  5ccba9345de703002bc3c2c8  1.0\n",
       "29642  5cf3301198dbd1002e022101  1.0\n",
       "30207  5cf1741888e702003a727401  0.0\n",
       "31050  5cd84fe7b7c305002ba83fb3  1.0"
      ]
     },
     "execution_count": 23,
     "metadata": {},
     "output_type": "execute_result"
    }
   ],
   "source": [
    "DataPredTrain.loc[DataPredTrain[68].isin(['5cc37d827cec42002b08a764',\n",
    "'5ccba9345de703002bc3c2c8',\n",
    "'5ccc520ac791b50046687294',\n",
    "'5cccb879424ffe0040d54ae3',\n",
    "'5ccceae8424ffe0025d59bbc',\n",
    "'5ccda264f41acf0040b73899',\n",
    "'5cd15a024a618f001697f9a3',\n",
    "'5cd185b74c8daa0043c06857',\n",
    "'5cd1d6b24a618f001398c458',\n",
    "'5cd2ebae70819e4aff81c14a',\n",
    "'5cd34546734f770043917d5b',\n",
    "'5cd42bf4734f7700199284d2',\n",
    "'5cd489cfc0aad7005e186f45',\n",
    "'5cd4a987c0aad70016188c72',\n",
    "'5cd56d14c0aad70034196b1e',\n",
    "'5cd5db643911930037189854',\n",
    "'5cd6261f1e0ab9000d3987fd',\n",
    "'5cd7d6f1d4476000136279e1',\n",
    "'5cd84fe7b7c305002ba83fb3',\n",
    "'5cdabd1b2cd44300619a62d6',\n",
    "'5cf161f63eea2d004cceee3c',\n",
    "'5cf1741888e702003a727401',\n",
    "'5cf1b69f68bf5d00584bff7b',\n",
    "'5cf1c7ac88e702002872a223',\n",
    "'5cf1dbdb88e702003a72af24',\n",
    "'5cf3301198dbd1002e022101',\n",
    "'5cf6db4f7be3130058eabfe7',\n",
    "'5cf7e3415eef8e000ad97d0b',\n",
    "'5d1705ad2b7b8d001768f60d',\n",
    "'5d1fe40f1b2fb6123ec6be53',\n",
    "'5d29215d923f58002063a3c7',\n",
    "'5d29fec6923f58001163ff45',\n",
    "'5d2de9d767af2c2a3be229ee',\n",
    "'5d30d55cfa03470053ecb4fa',\n",
    "'5d3c450bc8fe5c002f6f6f57',\n",
    "'5d4838e5432aa9003367f569',\n",
    "'5d49ed794890890060366c4f',\n",
    "'5d4cb8bca8fc2700605c2721'])]"
   ]
  },
  {
   "cell_type": "markdown",
   "metadata": {},
   "source": [
    "- 29 datos de train, predicciones = 23"
   ]
  },
  {
   "cell_type": "code",
   "execution_count": 24,
   "metadata": {},
   "outputs": [
    {
     "data": {
      "text/html": [
       "<div>\n",
       "<style scoped>\n",
       "    .dataframe tbody tr th:only-of-type {\n",
       "        vertical-align: middle;\n",
       "    }\n",
       "\n",
       "    .dataframe tbody tr th {\n",
       "        vertical-align: top;\n",
       "    }\n",
       "\n",
       "    .dataframe thead th {\n",
       "        text-align: right;\n",
       "    }\n",
       "</style>\n",
       "<table border=\"1\" class=\"dataframe\">\n",
       "  <thead>\n",
       "    <tr style=\"text-align: right;\">\n",
       "      <th></th>\n",
       "      <th>68</th>\n",
       "      <th>1</th>\n",
       "    </tr>\n",
       "  </thead>\n",
       "  <tbody>\n",
       "    <tr>\n",
       "      <th>699</th>\n",
       "      <td>5cf1c7ac88e702002872a223</td>\n",
       "      <td>1.0</td>\n",
       "    </tr>\n",
       "    <tr>\n",
       "      <th>1326</th>\n",
       "      <td>5cf1dbdb88e702003a72af24</td>\n",
       "      <td>0.0</td>\n",
       "    </tr>\n",
       "    <tr>\n",
       "      <th>3726</th>\n",
       "      <td>5d3c450bc8fe5c002f6f6f57</td>\n",
       "      <td>0.0</td>\n",
       "    </tr>\n",
       "    <tr>\n",
       "      <th>4599</th>\n",
       "      <td>5d4cb8bca8fc2700605c2721</td>\n",
       "      <td>0.0</td>\n",
       "    </tr>\n",
       "    <tr>\n",
       "      <th>5675</th>\n",
       "      <td>5cdabd1b2cd44300619a62d6</td>\n",
       "      <td>1.0</td>\n",
       "    </tr>\n",
       "    <tr>\n",
       "      <th>5887</th>\n",
       "      <td>5cc37d827cec42002b08a764</td>\n",
       "      <td>1.0</td>\n",
       "    </tr>\n",
       "    <tr>\n",
       "      <th>6313</th>\n",
       "      <td>5cf6db4f7be3130058eabfe7</td>\n",
       "      <td>1.0</td>\n",
       "    </tr>\n",
       "    <tr>\n",
       "      <th>6401</th>\n",
       "      <td>5cf1b69f68bf5d00584bff7b</td>\n",
       "      <td>1.0</td>\n",
       "    </tr>\n",
       "    <tr>\n",
       "      <th>6450</th>\n",
       "      <td>5cd5db643911930037189854</td>\n",
       "      <td>1.0</td>\n",
       "    </tr>\n",
       "  </tbody>\n",
       "</table>\n",
       "</div>"
      ],
      "text/plain": [
       "                            68   1 \n",
       "699   5cf1c7ac88e702002872a223  1.0\n",
       "1326  5cf1dbdb88e702003a72af24  0.0\n",
       "3726  5d3c450bc8fe5c002f6f6f57  0.0\n",
       "4599  5d4cb8bca8fc2700605c2721  0.0\n",
       "5675  5cdabd1b2cd44300619a62d6  1.0\n",
       "5887  5cc37d827cec42002b08a764  1.0\n",
       "6313  5cf6db4f7be3130058eabfe7  1.0\n",
       "6401  5cf1b69f68bf5d00584bff7b  1.0\n",
       "6450  5cd5db643911930037189854  1.0"
      ]
     },
     "execution_count": 24,
     "metadata": {},
     "output_type": "execute_result"
    }
   ],
   "source": [
    "DataPredTest.loc[DataPredTest[68].isin([\n",
    "'5cc37d827cec42002b08a764',\n",
    "'5ccba9345de703002bc3c2c8',\n",
    "'5ccc520ac791b50046687294',\n",
    "'5cccb879424ffe0040d54ae3',\n",
    "'5ccceae8424ffe0025d59bbc',\n",
    "'5ccda264f41acf0040b73899',\n",
    "'5cd15a024a618f001697f9a3',\n",
    "'5cd185b74c8daa0043c06857',\n",
    "'5cd1d6b24a618f001398c458',\n",
    "'5cd2ebae70819e4aff81c14a',\n",
    "'5cd34546734f770043917d5b',\n",
    "'5cd42bf4734f7700199284d2',\n",
    "'5cd489cfc0aad7005e186f45',\n",
    "'5cd4a987c0aad70016188c72',\n",
    "'5cd56d14c0aad70034196b1e',\n",
    "'5cd5db643911930037189854',\n",
    "'5cd6261f1e0ab9000d3987fd',\n",
    "'5cd7d6f1d4476000136279e1',\n",
    "'5cd84fe7b7c305002ba83fb3',\n",
    "'5cdabd1b2cd44300619a62d6',\n",
    "'5cf161f63eea2d004cceee3c',\n",
    "'5cf1741888e702003a727401',\n",
    "'5cf1b69f68bf5d00584bff7b',\n",
    "'5cf1c7ac88e702002872a223',\n",
    "'5cf1dbdb88e702003a72af24',\n",
    "'5cf3301198dbd1002e022101',\n",
    "'5cf6db4f7be3130058eabfe7',\n",
    "'5cf7e3415eef8e000ad97d0b',\n",
    "'5d1705ad2b7b8d001768f60d',\n",
    "'5d1fe40f1b2fb6123ec6be53',\n",
    "'5d29215d923f58002063a3c7',\n",
    "'5d29fec6923f58001163ff45',\n",
    "'5d2de9d767af2c2a3be229ee',\n",
    "'5d30d55cfa03470053ecb4fa',\n",
    "'5d3c450bc8fe5c002f6f6f57',\n",
    "'5d4838e5432aa9003367f569',\n",
    "'5d49ed794890890060366c4f',\n",
    "'5d4cb8bca8fc2700605c2721'])]"
   ]
  },
  {
   "cell_type": "markdown",
   "metadata": {},
   "source": [
    " - Datos de Test 5, predicciones 5"
   ]
  },
  {
   "cell_type": "code",
   "execution_count": null,
   "metadata": {},
   "outputs": [],
   "source": []
  },
  {
   "cell_type": "code",
   "execution_count": null,
   "metadata": {},
   "outputs": [],
   "source": []
  },
  {
   "cell_type": "code",
   "execution_count": null,
   "metadata": {},
   "outputs": [],
   "source": []
  }
 ],
 "metadata": {
  "kernelspec": {
   "display_name": "Python 3",
   "language": "python",
   "name": "python3"
  },
  "language_info": {
   "codemirror_mode": {
    "name": "ipython",
    "version": 3
   },
   "file_extension": ".py",
   "mimetype": "text/x-python",
   "name": "python",
   "nbconvert_exporter": "python",
   "pygments_lexer": "ipython3",
   "version": "3.7.3"
  }
 },
 "nbformat": 4,
 "nbformat_minor": 2
}
