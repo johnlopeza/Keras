{
 "cells": [
  {
   "cell_type": "markdown",
   "metadata": {},
   "source": [
    "# Predicción"
   ]
  },
  {
   "cell_type": "code",
   "execution_count": 23,
   "metadata": {},
   "outputs": [],
   "source": [
    "#Paquetes y Librerias\n",
    "import numpy as np\n",
    "import matplotlib.pyplot as plt\n",
    "import pandas as pd\n",
    "import tensorflow as tf\n",
    "from sklearn.impute import SimpleImputer\n",
    "from sklearn.preprocessing import OneHotEncoder, LabelEncoder, StandardScaler\n",
    "from sklearn.compose import make_column_transformer\n",
    "from sklearn.model_selection import train_test_split\n",
    "pd.set_option('mode.chained_assignment', None)"
   ]
  },
  {
   "cell_type": "code",
   "execution_count": 24,
   "metadata": {},
   "outputs": [],
   "source": [
    "session = tf.Session()"
   ]
  },
  {
   "cell_type": "code",
   "execution_count": 25,
   "metadata": {},
   "outputs": [],
   "source": [
    "train = pd.read_csv('../DataSet/TrainDataAgo.csv')\n",
    "train.iloc[:, 20:21] = train.iloc[:, 20:21].fillna(False)\n",
    "train.iloc[:, 6:7] = train.iloc[:, 6:7].fillna(\"Sin Definir\")\n",
    "train.iloc[:, 21:22] = train.iloc[:, 21:22].fillna(0)\n",
    "train[\"FECHA\"] = pd.to_datetime(train[\"FECHA\"])\n",
    "train[\"FECHA\"]=train[\"FECHA\"].apply(lambda x: x.toordinal())"
   ]
  },
  {
   "cell_type": "code",
   "execution_count": 26,
   "metadata": {},
   "outputs": [],
   "source": [
    "#Definir los valores de entrenamiento y de prediccion.\n",
    "x = train.iloc[:, [0,1, 5, 6, 8, 10, 14, 15, 19, 20, 21]].values\n",
    "y = train.iloc[:, [0,22]].values"
   ]
  },
  {
   "cell_type": "code",
   "execution_count": 27,
   "metadata": {},
   "outputs": [],
   "source": [
    "#Limpiar los datos\n",
    "imputer = SimpleImputer(missing_values=np.nan, strategy=\"mean\")\n",
    "imputer = imputer.fit(x[:, [1, 2, 4, 5, 6, 7, 8, 10]])\n",
    "x[:, [1, 2, 4, 5, 6, 7, 8, 10]] = imputer.transform(x[:, [1, 2, 4, 5, 6, 7, 8, 10]])"
   ]
  },
  {
   "cell_type": "code",
   "execution_count": 28,
   "metadata": {},
   "outputs": [],
   "source": [
    "#Codificar los datos\n",
    "labelecoder_x = LabelEncoder()\n",
    "x[:, 9] = labelecoder_x.fit_transform(x[:,9])\n",
    "onehotencoder = make_column_transformer((OneHotEncoder(sparse=False), [3]), remainder=\"passthrough\")\n",
    "x = onehotencoder.fit_transform(x)"
   ]
  },
  {
   "cell_type": "code",
   "execution_count": 29,
   "metadata": {},
   "outputs": [],
   "source": [
    "#Separar los Datos de train y test\n",
    "X_train, X_test, y_train, y_test = train_test_split(x, y, test_size=0.2, random_state=0)"
   ]
  },
  {
   "cell_type": "code",
   "execution_count": 30,
   "metadata": {},
   "outputs": [],
   "source": [
    "X_train = pd.DataFrame(X_train)\n",
    "X_test = pd.DataFrame(X_test)"
   ]
  },
  {
   "cell_type": "code",
   "execution_count": 31,
   "metadata": {},
   "outputs": [],
   "source": [
    "sc_X = StandardScaler()\n",
    "X_train.loc[:, X_train.columns != 68] = sc_X.fit_transform(X_train.loc[:, X_train.columns != 68])\n",
    "X_test.loc[:, X_test.columns != 68]= sc_X.transform(X_test.loc[:, X_test.columns != 68])"
   ]
  },
  {
   "cell_type": "markdown",
   "metadata": {},
   "source": [
    "### Modelo de regresión logística"
   ]
  },
  {
   "cell_type": "markdown",
   "metadata": {},
   "source": [
    "- $x \\in \\mathbb R^{77}$\n",
    "- $A \\in \\mathbb R_{77\\times 1}$\n",
    "- $b \\in \\mathbb R$\n",
    "- $y = Ax+b\\in \\mathbb R$\n",
    "- $\\hat{y} = sigmoid(y)\\in (0,1) $"
   ]
  },
  {
   "cell_type": "code",
   "execution_count": 32,
   "metadata": {},
   "outputs": [],
   "source": [
    "batch_size = 25\n",
    "x_data = tf.placeholder(shape=[None, 77], dtype = tf.float32)\n",
    "y_target = tf.placeholder(shape = [None, 1], dtype=tf.float32)\n",
    "A = tf.Variable(tf.random_normal(shape=[77,1]))\n",
    "b = tf.Variable(tf.random_normal(shape=[1,1]))\n",
    "y_pred = tf.add(tf.matmul(x_data, A), b)"
   ]
  },
  {
   "cell_type": "code",
   "execution_count": 33,
   "metadata": {},
   "outputs": [],
   "source": [
    "loss = tf.reduce_mean(tf.nn.sigmoid_cross_entropy_with_logits(logits=y_pred, labels= y_target))\n",
    "pred = tf.nn.sigmoid_cross_entropy_with_logits(logits= y_pred, labels=y_target)\n",
    "init = tf.global_variables_initializer()\n",
    "session.run(init)\n",
    "my_optim = tf.train.GradientDescentOptimizer(learning_rate=0.5)\n",
    "train_step = my_optim.minimize(loss)"
   ]
  },
  {
   "cell_type": "code",
   "execution_count": 34,
   "metadata": {},
   "outputs": [],
   "source": [
    "classification_lr = tf.round(tf.sigmoid(y_pred))\n",
    "correct_classification = tf.cast(tf.equal(classification_lr, y_target), tf.float32)\n",
    "accuracy = tf.reduce_mean(correct_classification)"
   ]
  },
  {
   "cell_type": "code",
   "execution_count": 35,
   "metadata": {},
   "outputs": [
    {
     "ename": "KeyboardInterrupt",
     "evalue": "",
     "output_type": "error",
     "traceback": [
      "\u001b[0;31m---------------------------------------------------------------------------\u001b[0m",
      "\u001b[0;31mKeyboardInterrupt\u001b[0m                         Traceback (most recent call last)",
      "\u001b[0;32m<ipython-input-35-0ff441838631>\u001b[0m in \u001b[0;36m<module>\u001b[0;34m\u001b[0m\n\u001b[1;32m     14\u001b[0m \u001b[0;34m\u001b[0m\u001b[0m\n\u001b[1;32m     15\u001b[0m     temp_acc_train = session.run(accuracy, \n\u001b[0;32m---> 16\u001b[0;31m                                  feed_dict={x_data: X_train.loc[:, X_train.columns != 68], y_target: np.transpose([y_train[:,1]])})\n\u001b[0m\u001b[1;32m     17\u001b[0m     \u001b[0mtrain_acc\u001b[0m\u001b[0;34m.\u001b[0m\u001b[0mappend\u001b[0m\u001b[0;34m(\u001b[0m\u001b[0mtemp_acc_train\u001b[0m\u001b[0;34m)\u001b[0m\u001b[0;34m\u001b[0m\u001b[0;34m\u001b[0m\u001b[0m\n\u001b[1;32m     18\u001b[0m     temp_acc_test = session.run(accuracy, \n",
      "\u001b[0;32m~/anaconda3/lib/python3.7/site-packages/tensorflow/python/client/session.py\u001b[0m in \u001b[0;36mrun\u001b[0;34m(self, fetches, feed_dict, options, run_metadata)\u001b[0m\n\u001b[1;32m    927\u001b[0m     \u001b[0;32mtry\u001b[0m\u001b[0;34m:\u001b[0m\u001b[0;34m\u001b[0m\u001b[0;34m\u001b[0m\u001b[0m\n\u001b[1;32m    928\u001b[0m       result = self._run(None, fetches, feed_dict, options_ptr,\n\u001b[0;32m--> 929\u001b[0;31m                          run_metadata_ptr)\n\u001b[0m\u001b[1;32m    930\u001b[0m       \u001b[0;32mif\u001b[0m \u001b[0mrun_metadata\u001b[0m\u001b[0;34m:\u001b[0m\u001b[0;34m\u001b[0m\u001b[0;34m\u001b[0m\u001b[0m\n\u001b[1;32m    931\u001b[0m         \u001b[0mproto_data\u001b[0m \u001b[0;34m=\u001b[0m \u001b[0mtf_session\u001b[0m\u001b[0;34m.\u001b[0m\u001b[0mTF_GetBuffer\u001b[0m\u001b[0;34m(\u001b[0m\u001b[0mrun_metadata_ptr\u001b[0m\u001b[0;34m)\u001b[0m\u001b[0;34m\u001b[0m\u001b[0;34m\u001b[0m\u001b[0m\n",
      "\u001b[0;32m~/anaconda3/lib/python3.7/site-packages/tensorflow/python/client/session.py\u001b[0m in \u001b[0;36m_run\u001b[0;34m(self, handle, fetches, feed_dict, options, run_metadata)\u001b[0m\n\u001b[1;32m   1119\u001b[0m             \u001b[0mfeed_handles\u001b[0m\u001b[0;34m[\u001b[0m\u001b[0msubfeed_t\u001b[0m\u001b[0;34m]\u001b[0m \u001b[0;34m=\u001b[0m \u001b[0msubfeed_val\u001b[0m\u001b[0;34m\u001b[0m\u001b[0;34m\u001b[0m\u001b[0m\n\u001b[1;32m   1120\u001b[0m           \u001b[0;32melse\u001b[0m\u001b[0;34m:\u001b[0m\u001b[0;34m\u001b[0m\u001b[0;34m\u001b[0m\u001b[0m\n\u001b[0;32m-> 1121\u001b[0;31m             \u001b[0mnp_val\u001b[0m \u001b[0;34m=\u001b[0m \u001b[0mnp\u001b[0m\u001b[0;34m.\u001b[0m\u001b[0masarray\u001b[0m\u001b[0;34m(\u001b[0m\u001b[0msubfeed_val\u001b[0m\u001b[0;34m,\u001b[0m \u001b[0mdtype\u001b[0m\u001b[0;34m=\u001b[0m\u001b[0msubfeed_dtype\u001b[0m\u001b[0;34m)\u001b[0m\u001b[0;34m\u001b[0m\u001b[0;34m\u001b[0m\u001b[0m\n\u001b[0m\u001b[1;32m   1122\u001b[0m \u001b[0;34m\u001b[0m\u001b[0m\n\u001b[1;32m   1123\u001b[0m           if (not is_tensor_handle_feed and\n",
      "\u001b[0;32m~/anaconda3/lib/python3.7/site-packages/numpy/core/numeric.py\u001b[0m in \u001b[0;36masarray\u001b[0;34m(a, dtype, order)\u001b[0m\n\u001b[1;32m    536\u001b[0m \u001b[0;34m\u001b[0m\u001b[0m\n\u001b[1;32m    537\u001b[0m     \"\"\"\n\u001b[0;32m--> 538\u001b[0;31m     \u001b[0;32mreturn\u001b[0m \u001b[0marray\u001b[0m\u001b[0;34m(\u001b[0m\u001b[0ma\u001b[0m\u001b[0;34m,\u001b[0m \u001b[0mdtype\u001b[0m\u001b[0;34m,\u001b[0m \u001b[0mcopy\u001b[0m\u001b[0;34m=\u001b[0m\u001b[0;32mFalse\u001b[0m\u001b[0;34m,\u001b[0m \u001b[0morder\u001b[0m\u001b[0;34m=\u001b[0m\u001b[0morder\u001b[0m\u001b[0;34m)\u001b[0m\u001b[0;34m\u001b[0m\u001b[0;34m\u001b[0m\u001b[0m\n\u001b[0m\u001b[1;32m    539\u001b[0m \u001b[0;34m\u001b[0m\u001b[0m\n\u001b[1;32m    540\u001b[0m \u001b[0;34m\u001b[0m\u001b[0m\n",
      "\u001b[0;31mKeyboardInterrupt\u001b[0m: "
     ]
    }
   ],
   "source": [
    "loss_vec = []\n",
    "train_acc = []\n",
    "test_acc = []\n",
    "prediction = []\n",
    "predictionTest = []\n",
    "\n",
    "for i in range(1000):\n",
    "    rand_idx = np.random.choice(len(X_train), size=batch_size)\n",
    "    rand_x = X_train.loc[rand_idx]\n",
    "    rand_y = np.transpose([y_train[rand_idx,1]])\n",
    "    session.run(train_step, feed_dict={x_data: rand_x.loc[:, rand_x.columns != 68], y_target: rand_y})\n",
    "    temp_loss = session.run(loss, feed_dict={x_data: rand_x.loc[:, rand_x.columns != 68], y_target: rand_y})\n",
    "    loss_vec.append(temp_loss)\n",
    "    \n",
    "    temp_acc_train = session.run(accuracy, \n",
    "                                 feed_dict={x_data: X_train.loc[:, X_train.columns != 68], y_target: np.transpose([y_train[:,1]])})\n",
    "    train_acc.append(temp_acc_train)\n",
    "    temp_acc_test = session.run(accuracy, \n",
    "                                feed_dict={x_data: X_test.loc[:, X_test.columns != 68], y_target: np.transpose([y_test[:,1]])})\n",
    "    test_acc.append(temp_acc_test)\n",
    "    \n",
    "    temp_pred=session.run(classification_lr,feed_dict={x_data: X_train.loc[:, X_train.columns != 68]})\n",
    "    prediction =temp_pred\n",
    "    \n",
    "    temp_predtest=session.run(classification_lr,feed_dict={x_data: X_test.loc[:,X_test.columns !=68]})\n",
    "    predictionTest = temp_predtest\n",
    "     \n",
    "    if(i+1)%100==0:\n",
    "        print(\"Loss: \"+str(temp_loss)+ \" Acc: \"+ str(temp_acc_train)+ \" AccTest: \"+str(temp_acc_test))\n",
    "        \n",
    "        \n",
    "        "
   ]
  },
  {
   "cell_type": "code",
   "execution_count": null,
   "metadata": {},
   "outputs": [],
   "source": [
    "plt.plot(loss_vec, 'k-')\n",
    "plt.title(\"Función de pérdidas por iteración\")\n",
    "plt.xlabel(\"Iteración\")\n",
    "plt.ylabel(\"Pérdida\")\n",
    "plt.ylim([0,2])\n",
    "plt.show()"
   ]
  },
  {
   "cell_type": "code",
   "execution_count": null,
   "metadata": {},
   "outputs": [],
   "source": [
    "plt.plot(train_acc, 'b-', label = \"Precisión conjunto entrenamiento\")\n",
    "plt.plot(test_acc, 'r--', label = \"Precisión conjunto de pruebas\")\n",
    "plt.title(\"Precisión en entrenamiento y testing\")\n",
    "plt.xlabel(\"Iteración del algoritmo\")\n",
    "plt.ylabel(\"Precisión (proporción de clasifición OK)\")\n",
    "plt.legend(loc = 'lower right')\n",
    "plt.show()"
   ]
  },
  {
   "cell_type": "code",
   "execution_count": null,
   "metadata": {},
   "outputs": [],
   "source": [
    "ResultPred = pd.DataFrame(prediction)\n",
    "ResultPredTest = pd.DataFrame(predictionTest)"
   ]
  },
  {
   "cell_type": "code",
   "execution_count": null,
   "metadata": {},
   "outputs": [],
   "source": [
    "DataPredTrain = X_train.loc[:,[68]]\n",
    "DataPredTest = X_test.loc[:,[68]]\n",
    "DataPredTrain[1] = ResultPred\n",
    "DataPredTest[1] = ResultPredTest"
   ]
  },
  {
   "cell_type": "code",
   "execution_count": null,
   "metadata": {},
   "outputs": [],
   "source": [
    "DataPredTrain.loc[DataPredTrain[1] == 1]"
   ]
  },
  {
   "cell_type": "markdown",
   "metadata": {},
   "source": [
    "- 33076 datos de entrenamiento,  predicciones: 200"
   ]
  },
  {
   "cell_type": "code",
   "execution_count": null,
   "metadata": {},
   "outputs": [],
   "source": [
    "DataPredTest.loc[DataPredTest[1] == 1]"
   ]
  },
  {
   "cell_type": "markdown",
   "metadata": {},
   "source": [
    "- 8270 datos de test, 239 prediciones"
   ]
  },
  {
   "cell_type": "code",
   "execution_count": null,
   "metadata": {},
   "outputs": [],
   "source": [
    "DataPredTrain.loc[DataPredTrain[68].isin(['5cc37d827cec42002b08a764',\n",
    "'5ccba9345de703002bc3c2c8',\n",
    "'5ccc520ac791b50046687294',\n",
    "'5cccb879424ffe0040d54ae3',\n",
    "'5ccceae8424ffe0025d59bbc',\n",
    "'5ccda264f41acf0040b73899',\n",
    "'5cd15a024a618f001697f9a3',\n",
    "'5cd185b74c8daa0043c06857',\n",
    "'5cd1d6b24a618f001398c458',\n",
    "'5cd2ebae70819e4aff81c14a',\n",
    "'5cd34546734f770043917d5b',\n",
    "'5cd42bf4734f7700199284d2',\n",
    "'5cd489cfc0aad7005e186f45',\n",
    "'5cd4a987c0aad70016188c72',\n",
    "'5cd56d14c0aad70034196b1e',\n",
    "'5cd5db643911930037189854',\n",
    "'5cd6261f1e0ab9000d3987fd',\n",
    "'5cd7d6f1d4476000136279e1',\n",
    "'5cd84fe7b7c305002ba83fb3',\n",
    "'5cdabd1b2cd44300619a62d6',\n",
    "'5cf161f63eea2d004cceee3c',\n",
    "'5cf1741888e702003a727401',\n",
    "'5cf1b69f68bf5d00584bff7b',\n",
    "'5cf1c7ac88e702002872a223',\n",
    "'5cf1dbdb88e702003a72af24',\n",
    "'5cf3301198dbd1002e022101',\n",
    "'5cf6db4f7be3130058eabfe7',\n",
    "'5cf7e3415eef8e000ad97d0b',\n",
    "'5d1705ad2b7b8d001768f60d',\n",
    "'5d1fe40f1b2fb6123ec6be53',\n",
    "'5d29215d923f58002063a3c7',\n",
    "'5d29fec6923f58001163ff45',\n",
    "'5d2de9d767af2c2a3be229ee',\n",
    "'5d30d55cfa03470053ecb4fa',\n",
    "'5d3c450bc8fe5c002f6f6f57',\n",
    "'5d4838e5432aa9003367f569',\n",
    "'5d49ed794890890060366c4f',\n",
    "'5d4cb8bca8fc2700605c2721'])]"
   ]
  },
  {
   "cell_type": "markdown",
   "metadata": {},
   "source": [
    "- 25 fraudes, prediccines 14 en train"
   ]
  },
  {
   "cell_type": "code",
   "execution_count": null,
   "metadata": {},
   "outputs": [],
   "source": [
    "DataPredTest.loc[DataPredTest[68].isin(['5cc37d827cec42002b08a764',\n",
    "'5ccba9345de703002bc3c2c8',\n",
    "'5ccc520ac791b50046687294',\n",
    "'5cccb879424ffe0040d54ae3',\n",
    "'5ccceae8424ffe0025d59bbc',\n",
    "'5ccda264f41acf0040b73899',\n",
    "'5cd15a024a618f001697f9a3',\n",
    "'5cd185b74c8daa0043c06857',\n",
    "'5cd1d6b24a618f001398c458',\n",
    "'5cd2ebae70819e4aff81c14a',\n",
    "'5cd34546734f770043917d5b',\n",
    "'5cd42bf4734f7700199284d2',\n",
    "'5cd489cfc0aad7005e186f45',\n",
    "'5cd4a987c0aad70016188c72',\n",
    "'5cd56d14c0aad70034196b1e',\n",
    "'5cd5db643911930037189854',\n",
    "'5cd6261f1e0ab9000d3987fd',\n",
    "'5cd7d6f1d4476000136279e1',\n",
    "'5cd84fe7b7c305002ba83fb3',\n",
    "'5cdabd1b2cd44300619a62d6',\n",
    "'5cf161f63eea2d004cceee3c',\n",
    "'5cf1741888e702003a727401',\n",
    "'5cf1b69f68bf5d00584bff7b',\n",
    "'5cf1c7ac88e702002872a223',\n",
    "'5cf1dbdb88e702003a72af24',\n",
    "'5cf3301198dbd1002e022101',\n",
    "'5cf6db4f7be3130058eabfe7',\n",
    "'5cf7e3415eef8e000ad97d0b',\n",
    "'5d1705ad2b7b8d001768f60d',\n",
    "'5d1fe40f1b2fb6123ec6be53',\n",
    "'5d29215d923f58002063a3c7',\n",
    "'5d29fec6923f58001163ff45',\n",
    "'5d2de9d767af2c2a3be229ee',\n",
    "'5d30d55cfa03470053ecb4fa',\n",
    "'5d3c450bc8fe5c002f6f6f57',\n",
    "'5d4838e5432aa9003367f569',\n",
    "'5d49ed794890890060366c4f',\n",
    "'5d4cb8bca8fc2700605c2721'])]"
   ]
  },
  {
   "cell_type": "markdown",
   "metadata": {},
   "source": [
    "- 9 fraudes, predicciones 8 en test"
   ]
  },
  {
   "cell_type": "code",
   "execution_count": null,
   "metadata": {},
   "outputs": [],
   "source": []
  },
  {
   "cell_type": "code",
   "execution_count": null,
   "metadata": {},
   "outputs": [],
   "source": []
  },
  {
   "cell_type": "code",
   "execution_count": null,
   "metadata": {},
   "outputs": [],
   "source": []
  }
 ],
 "metadata": {
  "kernelspec": {
   "display_name": "Python 3",
   "language": "python",
   "name": "python3"
  },
  "language_info": {
   "codemirror_mode": {
    "name": "ipython",
    "version": 3
   },
   "file_extension": ".py",
   "mimetype": "text/x-python",
   "name": "python",
   "nbconvert_exporter": "python",
   "pygments_lexer": "ipython3",
   "version": "3.7.3"
  }
 },
 "nbformat": 4,
 "nbformat_minor": 2
}
